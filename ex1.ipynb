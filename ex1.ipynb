{
  "nbformat": 4,
  "nbformat_minor": 0,
  "metadata": {
    "colab": {
      "provenance": []
    },
    "kernelspec": {
      "name": "python3",
      "display_name": "Python 3"
    },
    "language_info": {
      "name": "python"
    }
  },
  "cells": [
    {
      "cell_type": "code",
      "source": [
        "import word2number as w2n\n",
        "from tabulate import tabulate\n",
        "import re\n",
        "from nltk.corpus import stopwords\n",
        "import spacy\n",
        "nlp = spacy.load(\"en_core_web_sm\")"
      ],
      "metadata": {
        "id": "ekPuxl6MSdg7"
      },
      "execution_count": 65,
      "outputs": []
    },
    {
      "cell_type": "markdown",
      "source": [
        "# **function to convert numerical data to digits**"
      ],
      "metadata": {
        "id": "Dc6CP75jGQ2l"
      }
    },
    {
      "cell_type": "code",
      "source": [
        "def word_to_num(word):\n",
        "    word_dict = {\n",
        "        'zero': 0, 'one': 1, 'two': 2, 'three': 3, 'four': 4,\n",
        "        'five': 5, 'six': 6, 'seven': 7, 'eight': 8, 'nine': 9,\n",
        "        'ten': 10, 'eleven': 11, 'twelve': 12, 'thirteen': 13,\n",
        "        'fourteen': 14, 'fifteen': 15, 'sixteen': 16, 'seventeen': 17,\n",
        "        'eighteen': 18, 'nineteen': 19, 'twenty': 20,\n",
        "        'thirty': 30, 'forty': 40, 'fifty': 50, 'sixty': 60,\n",
        "        'seventy': 70, 'eighty': 80, 'ninety': 90,\n",
        "        'hundred': 100, 'thousand': 1000, 'million': 1000000\n",
        "    }\n",
        "    words = word.split()\n",
        "    num = 0\n",
        "    total = 0\n",
        "    for word in words:\n",
        "        if word in word_dict:\n",
        "            num = word_dict[word]\n",
        "            if num == 1000000:\n",
        "                total *= 1000000\n",
        "            else:\n",
        "                total += num\n",
        "        else:\n",
        "            return None\n",
        "    return total"
      ],
      "metadata": {
        "id": "gNoeb3gJC0Gs"
      },
      "execution_count": 66,
      "outputs": []
    },
    {
      "cell_type": "markdown",
      "source": [
        "# **defining the pattern**"
      ],
      "metadata": {
        "id": "RwUKjIVjGfxc"
      }
    },
    {
      "cell_type": "code",
      "source": [
        "numbers = ['zero', 'one', 'two', 'three', 'four', 'five', 'six', 'seven', 'eight', 'nine', 'ten', 'eleven', 'twelve', 'thirteen', 'fourteen', 'fifteen', 'sixteen', 'seventeen', 'eighteen', 'nineteen', 'twenty', 'thirty', 'forty', 'fifty', 'sixty', 'seventy', 'eighty', 'ninety', 'hundred', 'thousand', 'million']\n",
        "pattern = r\"((?:\" + '|'.join(numbers) + r\"|\\d)(?:\\s(?:\" + '|'.join(numbers) + r\"|\\d|and))*)(.*?)(\\d+[\\.|\\,]?\\d*)\\b\\s*(\\$|dollar)\""
      ],
      "metadata": {
        "id": "Udw1znF_Sgx_"
      },
      "execution_count": 67,
      "outputs": []
    },
    {
      "cell_type": "markdown",
      "source": [
        "# **Use case text**"
      ],
      "metadata": {
        "id": "xokxqIfjGtQO"
      }
    },
    {
      "cell_type": "code",
      "source": [
        "text = \"I bought five smartphones with 1500$ each, four kilos of fresh bananas for 1.2$ each, one apple for 4.5 dollar, three pairs of sneakers at 90$ each, six bottles of soda for 1.9 dollar each, two bags of chips at 8$ each, seven cans of soup for 5$ each, eight rolls of toilet paper for 7$ each, nine bars of soap for 1.2$ each, and ten boxes of tissues for 4$ each. \"\n"
      ],
      "metadata": {
        "id": "4tY1kLkeC-Tu"
      },
      "execution_count": 68,
      "outputs": []
    },
    {
      "cell_type": "markdown",
      "source": [
        "## **Tokenize the text**"
      ],
      "metadata": {
        "id": "ts5ZDaS1G3XR"
      }
    },
    {
      "cell_type": "code",
      "source": [
        "word_tokens = nlp(text)\n"
      ],
      "metadata": {
        "id": "jsFdVnCPDCFc"
      },
      "execution_count": 69,
      "outputs": []
    },
    {
      "cell_type": "markdown",
      "source": [
        "# **filtrer our tokens**"
      ],
      "metadata": {
        "id": "eEc9YGxOHEEk"
      }
    },
    {
      "cell_type": "code",
      "source": [
        "filtered_tokens = [token.text for token in word_tokens if token.pos_ != \"ADJ\"]\n"
      ],
      "metadata": {
        "id": "-T7XU74ADFSa"
      },
      "execution_count": 70,
      "outputs": []
    },
    {
      "cell_type": "code",
      "source": [
        "import nltk\n",
        "nltk.download('stopwords')"
      ],
      "metadata": {
        "colab": {
          "base_uri": "https://localhost:8080/"
        },
        "id": "9R4vL9MTDOaX",
        "outputId": "f97f6659-dfb7-451c-c025-05962f3df97d"
      },
      "execution_count": 71,
      "outputs": [
        {
          "output_type": "stream",
          "name": "stderr",
          "text": [
            "[nltk_data] Downloading package stopwords to /root/nltk_data...\n",
            "[nltk_data]   Package stopwords is already up-to-date!\n"
          ]
        },
        {
          "output_type": "execute_result",
          "data": {
            "text/plain": [
              "True"
            ]
          },
          "metadata": {},
          "execution_count": 71
        }
      ]
    },
    {
      "cell_type": "markdown",
      "source": [
        "# **removing stop words**"
      ],
      "metadata": {
        "id": "fo84WyfRHJOf"
      }
    },
    {
      "cell_type": "code",
      "source": [
        "stop_words = set(stopwords.words('english'))\n",
        "filtered_tokens = [token for token in filtered_tokens if token.lower() not in stop_words]\n",
        "filtered_tokens = ' '.join(filtered_tokens)\n"
      ],
      "metadata": {
        "id": "dACkPtwwDIS2"
      },
      "execution_count": 72,
      "outputs": []
    },
    {
      "cell_type": "markdown",
      "source": [
        "# **units pattern**"
      ],
      "metadata": {
        "id": "rUZhIPkqHTKy"
      }
    },
    {
      "cell_type": "code",
      "source": [
        "weight_units_regex = r'\\b(?:kg|kilos|[\\w]*(?:gram|grams))\\b'\n",
        "filtered_tokens = re.sub(weight_units_regex, '', filtered_tokens)"
      ],
      "metadata": {
        "id": "R1QkunK1DZQ7"
      },
      "execution_count": 73,
      "outputs": []
    },
    {
      "cell_type": "code",
      "source": [
        "matches = re.finditer(pattern, filtered_tokens)"
      ],
      "metadata": {
        "id": "gh5XSIfaDdlc"
      },
      "execution_count": 74,
      "outputs": []
    },
    {
      "cell_type": "markdown",
      "source": [
        "# **generate bill**"
      ],
      "metadata": {
        "id": "YoquhtUgHcXJ"
      }
    },
    {
      "cell_type": "code",
      "source": [
        "products = []\n",
        "quantities = []\n",
        "unit_prices = []\n",
        "total_prices = []\n",
        "total=0\n",
        "for match in matches:\n",
        "    quantity = match.group(1)\n",
        "    quantity = word_to_num(quantity.replace(',', '.'))\n",
        "    product = match.group(2)\n",
        "    price = float(match.group(3).replace(',', '.'))\n",
        "\n",
        "    # Calculate total price\n",
        "    total_price = quantity * price\n",
        "    total=total+total_price\n",
        "    products.append(product)\n",
        "    quantities.append(quantity)\n",
        "    unit_prices.append(price)\n",
        "    total_prices.append(total_price)\n",
        "\n",
        "bill_data = list(zip(products, quantities, unit_prices, total_prices))"
      ],
      "metadata": {
        "id": "McbcJkb0DknE"
      },
      "execution_count": 75,
      "outputs": []
    },
    {
      "cell_type": "code",
      "source": [
        "print(tabulate(bill_data, headers=[\"Product\", \"Quantity\", \"Unit Price ($)\", \"Total Price ($)\"], tablefmt=\"pretty\"))\n"
      ],
      "metadata": {
        "colab": {
          "base_uri": "https://localhost:8080/"
        },
        "id": "sPr6TN5uB38d",
        "outputId": "a124daf6-edca-417e-f8b5-585244323d17"
      },
      "execution_count": 76,
      "outputs": [
        {
          "output_type": "stream",
          "name": "stdout",
          "text": [
            "+--------------------+----------+----------------+--------------------+\n",
            "|      Product       | Quantity | Unit Price ($) |  Total Price ($)   |\n",
            "+--------------------+----------+----------------+--------------------+\n",
            "|    smartphones     |    5     |     1500.0     |       7500.0       |\n",
            "|      bananas       |    4     |      1.2       |        4.8         |\n",
            "|       apple        |    1     |      4.5       |        4.5         |\n",
            "|   pairs sneakers   |    3     |      90.0      |       270.0        |\n",
            "|    bottles soda    |    6     |      1.9       | 11.399999999999999 |\n",
            "|     bags chips     |    2     |      8.0       |        16.0        |\n",
            "|     cans soup      |    7     |      5.0       |        35.0        |\n",
            "| rolls toilet paper |    8     |      7.0       |        56.0        |\n",
            "|     bars soap      |    9     |      1.2       | 10.799999999999999 |\n",
            "|   boxes tissues    |    10    |      4.0       |        40.0        |\n",
            "+--------------------+----------+----------------+--------------------+\n"
          ]
        }
      ]
    },
    {
      "cell_type": "code",
      "source": [
        "print(total)"
      ],
      "metadata": {
        "colab": {
          "base_uri": "https://localhost:8080/"
        },
        "id": "fiBdWNnCHrXk",
        "outputId": "901351c7-992d-4074-8915-366f359753bf"
      },
      "execution_count": 77,
      "outputs": [
        {
          "output_type": "stream",
          "name": "stdout",
          "text": [
            "7948.5\n"
          ]
        }
      ]
    },
    {
      "cell_type": "code",
      "source": [],
      "metadata": {
        "id": "AFXcjogsIklG"
      },
      "execution_count": null,
      "outputs": []
    }
  ]
}